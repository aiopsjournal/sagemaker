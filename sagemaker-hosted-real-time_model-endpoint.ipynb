{
 "cells": [
  {
   "attachments": {},
   "cell_type": "markdown",
   "id": "attached-emergency",
   "metadata": {
    "tags": []
   },
   "source": [
    "# Running Real-Time Predictions with a SageMaker Hosted Model Endpoint\n",
    "Utilizing the Linear Learner algorithm with the MNIST dataset to predict whether a handwritten digit is a 0 or not.\n",
    "\n",
    "This example is based on the following AWS sample notebook:\n",
    "Linear Learner MNIST Example\n"
   ]
  },
  {
   "attachments": {},
   "cell_type": "markdown",
   "id": "republican-behavior",
   "metadata": {
    "tags": []
   },
   "source": [
    "## Introduction\n",
    "\n",
    "The MNIST dataset comprises images of handwritten digits ranging from zero to nine. Each 28 x 28 grayscale image is represented by individual pixel values, which will be used to predict a binary label: whether the digit is a 0 or any other digit (1, 2, 3, ... 9).\n",
    "\n",
    "We will use the Linear Learner algorithm to perform binary classification. The predicted_label will be either 1 or 0: 1 indicates the image is predicted to be a 0, while 0 indicates the image is predicted to be a digit other than 0."
   ]
  },
  {
   "attachments": {},
   "cell_type": "markdown",
   "id": "suburban-surgeon",
   "metadata": {
    "tags": []
   },
   "source": [
    "## Prerequisites and Preprocessing\n",
    "\n",
    "This notebook is designed to be used with SageMaker Studio's JupyterLab.\n",
    "\n",
    "Before proceeding, make sure to specify the following:\n",
    "\n",
    "The S3 bucket and prefix where the training and model data will be stored.\n",
    "The IAM role ARN that grants permissions for training and hosting to access your data."
   ]
  },
  {
   "cell_type": "code",
   "execution_count": null,
   "id": "friendly-discretion",
   "metadata": {
    "isConfigCell": true,
    "tags": [
     "parameters"
    ]
   },
   "outputs": [],
   "source": [
    "import sagemaker\n",
    "\n",
    "bucket = sagemaker.Session().default_bucket()\n",
    "prefix = \"sagemaker/DEMO-linear-mnist\"\n",
    "\n",
    "# Define IAM role\n",
    "import boto3\n",
    "import re\n",
    "from sagemaker import get_execution_role\n",
    "\n",
    "role = get_execution_role()"
   ]
  },
  {
   "attachments": {},
   "cell_type": "markdown",
   "id": "comic-monaco",
   "metadata": {
    "tags": []
   },
   "source": [
    "### Data Ingestion\n",
    "Load the dataset from an online URL directly into memory for preprocessing before training. Since the dataset is small, it can be handled entirely in memory."
   ]
  },
  {
   "cell_type": "code",
   "execution_count": null,
   "id": "billion-samoa",
   "metadata": {
    "tags": []
   },
   "outputs": [],
   "source": [
    "%%time\n",
    "import pickle, gzip, numpy, urllib.request, json\n",
    "\n",
    "fobj = (\n",
    "    boto3.client(\"s3\")\n",
    "    .get_object(\n",
    "        Bucket=f\"sagemaker-example-files-prod-{boto3.session.Session().region_name}\",\n",
    "        Key=\"datasets/image/MNIST/mnist.pkl.gz\",\n",
    "    )[\"Body\"]\n",
    "    .read()\n",
    ")\n",
    "\n",
    "with open(\"mnist.pkl.gz\", \"wb\") as f:\n",
    "    f.write(fobj)\n",
    "\n",
    "# Load the dataset\n",
    "with gzip.open(\"mnist.pkl.gz\", \"rb\") as f:\n",
    "    train_set, valid_set, test_set = pickle.load(f, encoding=\"latin1\")"
   ]
  },
  {
   "attachments": {},
   "cell_type": "markdown",
   "id": "northern-buyer",
   "metadata": {
    "tags": []
   },
   "source": [
    "### Inspecting the Data\n",
    "After importing the dataset, we can examine one of the digits included in the dataset."
   ]
  },
  {
   "cell_type": "code",
   "execution_count": null,
   "id": "perfect-zambia",
   "metadata": {
    "tags": []
   },
   "outputs": [],
   "source": [
    "%matplotlib inline\n",
    "import matplotlib.pyplot as plt\n",
    "\n",
    "plt.rcParams[\"figure.figsize\"] = (2, 10)\n",
    "\n",
    "\n",
    "def show_digit(img, caption=\"\", subplot=None):\n",
    "    if subplot == None:\n",
    "        _, (subplot) = plt.subplots(1, 1)\n",
    "    imgr = img.reshape((28, 28))\n",
    "    subplot.axis(\"off\")\n",
    "    subplot.imshow(imgr, cmap=\"gray\")\n",
    "    plt.title(caption)\n",
    "\n",
    "\n",
    "show_digit(train_set[0][30], \"This is a {}\".format(train_set[1][30]))"
   ]
  },
  {
   "attachments": {},
   "cell_type": "markdown",
   "id": "split-desperate",
   "metadata": {
    "tags": []
   },
   "source": [
    "### Convert the Data to RecordIO-Wrapped Protobuf Format\n",
    "Amazon SageMaker's Linear Learner algorithm supports data in either RecordIO-wrapped protobuf or CSV format. Therefore, we need to transform the data into a supported format for the algorithm to process it.\n",
    "\n",
    "The code below converts the np.array into the RecordIO-wrapped protobuf format."
   ]
  },
  {
   "cell_type": "code",
   "execution_count": null,
   "id": "spoken-apparatus",
   "metadata": {
    "tags": []
   },
   "outputs": [],
   "source": [
    "import io\n",
    "import numpy as np\n",
    "import sagemaker.amazon.common as smac\n",
    "\n",
    "vectors = np.array([t.tolist() for t in train_set[0]]).astype(\"float32\")\n",
    "labels = np.where(np.array([t.tolist() for t in train_set[1]]) == 0, 1, 0).astype(\"float32\")\n",
    "\n",
    "buf = io.BytesIO()\n",
    "smac.write_numpy_to_dense_tensor(buf, vectors, labels)\n",
    "buf.seek(0)"
   ]
  },
  {
   "attachments": {},
   "cell_type": "markdown",
   "id": "champion-depth",
   "metadata": {
    "tags": []
   },
   "source": [
    "## Upload Training Data\n",
    "With the RecordIO-wrapped protobuf now created, the next step is to upload it to S3, allowing Amazon SageMaker to access and use it for training."
   ]
  },
  {
   "cell_type": "code",
   "execution_count": null,
   "id": "electronic-spirit",
   "metadata": {
    "scrolled": true,
    "tags": []
   },
   "outputs": [],
   "source": [
    "import boto3\n",
    "import os\n",
    "\n",
    "key = \"recordio-pb-data\"\n",
    "boto3.resource(\"s3\").Bucket(bucket).Object(os.path.join(prefix, \"train\", key)).upload_fileobj(buf)\n",
    "s3_train_data = \"s3://{}/{}/train/{}\".format(bucket, prefix, key)\n",
    "print(\"uploaded training data location: {}\".format(s3_train_data))"
   ]
  },
  {
   "attachments": {},
   "cell_type": "markdown",
   "id": "central-acrylic",
   "metadata": {
    "tags": []
   },
   "source": [
    "Setup an output S3 location for the model artifact that will be output as the result of training with the algorithm."
   ]
  },
  {
   "cell_type": "code",
   "execution_count": null,
   "id": "considered-culture",
   "metadata": {
    "tags": []
   },
   "outputs": [],
   "source": [
    "output_location = \"s3://{}/{}/output\".format(bucket, prefix)\n",
    "print(\"training artifacts will be uploaded to: {}\".format(output_location))"
   ]
  },
  {
   "attachments": {},
   "cell_type": "raw",
   "id": "924384f1-806a-406c-93a6-f231237f8e8a",
   "metadata": {
    "tags": [],
    "vscode": {
     "languageId": "raw"
    }
   },
   "source": [
    "## Training the Linear Model\n",
    "Begin training the model and track its status until the process is complete. In this example, the training typically takes between 7 to 11 minutes.\n",
    "\n",
    "To start, specify the container for the linear learner framework, which will be used for the training process."
   ]
  },
  {
   "cell_type": "code",
   "execution_count": null,
   "id": "metric-steel",
   "metadata": {
    "tags": []
   },
   "outputs": [],
   "source": [
    "from sagemaker.image_uris import retrieve\n",
    "\n",
    "container = retrieve(\"linear-learner\", boto3.Session().region_name)"
   ]
  },
  {
   "attachments": {},
   "cell_type": "markdown",
   "id": "indie-airport",
   "metadata": {
    "tags": []
   },
   "source": [
    "Initiate the training job with the following parameters:\n",
    "\n",
    "    feature_dim is set to 784, representing the total number of pixels in each 28 x 28 image.\n",
    "\n",
    "    predictor_type is defined as 'binary_classifier', as the objective is to predict whether the image depicts a 0 or not.\n",
    "\n",
    "    mini_batch_size is configured to 200."
   ]
  },
  {
   "cell_type": "code",
   "execution_count": null,
   "id": "imported-explorer",
   "metadata": {
    "tags": []
   },
   "outputs": [],
   "source": [
    "import boto3\n",
    "\n",
    "sess = sagemaker.Session()\n",
    "\n",
    "linear = sagemaker.estimator.Estimator(\n",
    "    container,\n",
    "    role,\n",
    "    instance_count=1,\n",
    "    instance_type=\"ml.m5.large\",\n",
    "    output_path=output_location,\n",
    "    sagemaker_session=sess,\n",
    ")\n",
    "linear.set_hyperparameters(feature_dim=784, predictor_type=\"binary_classifier\", mini_batch_size=200)\n",
    "\n",
    "linear.fit({\"train\": s3_train_data})"
   ]
  },
  {
   "attachments": {},
   "cell_type": "markdown",
   "id": "pacific-desire",
   "metadata": {
    "tags": []
   },
   "source": [
    "## Set Up a Model Endpoint\n",
    "After completing the training, we can deploy the model to a SageMaker real-time hosted endpoint, allowing for dynamic generation of predictions (inference).\n",
    "\n",
    "By utilizing the deploy API, we can define key parameters such as the number of initial instances, the instance type, and the methods for serializing requests and deserializing responses. In this configuration, the input data will be in RecordIO-wrapped protobuf format, while the model's output will be in JSON format."
   ]
  },
  {
   "cell_type": "code",
   "execution_count": null,
   "id": "jewish-dallas",
   "metadata": {
    "tags": []
   },
   "outputs": [],
   "source": [
    "from sagemaker.serializers import CSVSerializer\n",
    "from sagemaker.deserializers import JSONDeserializer\n",
    "\n",
    "linear_predictor = linear.deploy(\n",
    "    initial_instance_count=1,\n",
    "    instance_type=\"ml.m5.large\",\n",
    "    serializer=CSVSerializer(),\n",
    "    deserializer=JSONDeserializer(),\n",
    ")"
   ]
  },
  {
   "attachments": {},
   "cell_type": "markdown",
   "id": "administrative-singing",
   "metadata": {
    "tags": []
   },
   "source": [
    "## Validate the Model for Usage\n",
    "At this stage, we can validate the model and test its functionality. By sending HTTP POST requests to the endpoint, we can receive predictions. To simplify this process, we will use the Amazon SageMaker Python SDK, which allows us to define how to serialize the input requests and deserialize the output responses specific to the algorithm."
   ]
  },
  {
   "attachments": {},
   "cell_type": "markdown",
   "id": "linear-module",
   "metadata": {
    "tags": []
   },
   "source": [
    "Now let's try getting a prediction for a single record."
   ]
  },
  {
   "cell_type": "code",
   "execution_count": null,
   "id": "south-sperm",
   "metadata": {
    "tags": []
   },
   "outputs": [],
   "source": [
    "result = linear_predictor.predict(train_set[0][30:31])\n",
    "print(result)"
   ]
  },
  {
   "attachments": {},
   "cell_type": "markdown",
   "id": "linear-player",
   "metadata": {
    "tags": []
   },
   "source": [
    "If everything works, the endpoint will return a prediction: `predicted_label` which will be either `0` or `1`. `1` denotes that we predict the image is a 0, while `0` denotes that we are predicting the image is not of a 0.\n",
    "\n",
    "It also gives a `score` which is a single floating point number indicating how strongly the algorithm believes it has predicted correctly. "
   ]
  },
  {
   "attachments": {},
   "cell_type": "markdown",
   "id": "hydraulic-aerospace",
   "metadata": {
    "tags": []
   },
   "source": [
    "### Clean Up - Remove the Endpoint\n",
    "The delete_endpoint command in the code below will terminate the hosted endpoint to prevent incurring unnecessary charges. \n",
    "Additionally, it's recommended to delete the associated S3 buckets to free up resources."
   ]
  },
  {
   "cell_type": "code",
   "execution_count": null,
   "id": "billion-occasions",
   "metadata": {
    "tags": []
   },
   "outputs": [],
   "source": [
    "sagemaker.Session().delete_endpoint(linear_predictor.endpoint_name)"
   ]
  }
 ],
 "metadata": {
  "celltoolbar": "Tags",
  "instance_type": "ml.t3.medium",
  "kernelspec": {
   "display_name": "Python 3 (ipykernel)",
   "language": "python",
   "name": "python3"
  },
  "language_info": {
   "codemirror_mode": {
    "name": "ipython",
    "version": 3
   },
   "file_extension": ".py",
   "mimetype": "text/x-python",
   "name": "python",
   "nbconvert_exporter": "python",
   "pygments_lexer": "ipython3",
   "version": "3.10.14"
  },
  "notice": "Copyright 2017 Amazon.com, Inc. or its affiliates. All Rights Reserved.  Licensed under the Apache License, Version 2.0 (the \"License\"). You may not use this file except in compliance with the License. A copy of the License is located at http://aws.amazon.com/apache2.0/ or in the \"license\" file accompanying this file. This file is distributed on an \"AS IS\" BASIS, WITHOUT WARRANTIES OR CONDITIONS OF ANY KIND, either express or implied. See the License for the specific language governing permissions and limitations under the License."
 },
 "nbformat": 4,
 "nbformat_minor": 5
}
